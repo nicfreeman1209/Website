{
 "cells": [
  {
   "cell_type": "code",
   "execution_count": 3,
   "id": "ba3bb660-c733-4365-a9e7-1c039f7b3ea7",
   "metadata": {},
   "outputs": [],
   "source": [
    "import qrcode"
   ]
  },
  {
   "cell_type": "code",
   "execution_count": 6,
   "id": "ba6821ca-dd1b-4e0f-b67c-4300517d4831",
   "metadata": {},
   "outputs": [
    {
     "name": "stderr",
     "output_type": "stream",
     "text": [
      "Error: no \"view\" mailcap rules found for type \"image/png\"\n",
      "/usr/bin/xdg-open: 882: www-browser: not found\n",
      "/usr/bin/xdg-open: 882: links2: not found\n",
      "/usr/bin/xdg-open: 882: elinks: not found\n",
      "/usr/bin/xdg-open: 882: links: not found\n",
      "/usr/bin/xdg-open: 882: lynx: not found\n",
      "/usr/bin/xdg-open: 882: w3m: not found\n",
      "xdg-open: no method available for opening '/tmp/tmp7hwkuzww.PNG'\n"
     ]
    }
   ],
   "source": [
    "import qrcode\n",
    "img = qrcode.make('https://nicfreeman1209.github.io/Website/wedding/index.html')\n",
    "type(img)  # qrcode.image.pil.PilImage\n",
    "img.save(\"qrcode.png\")"
   ]
  },
  {
   "cell_type": "code",
   "execution_count": null,
   "id": "ef917d21-9da2-400b-9d7f-9354ea30e5f8",
   "metadata": {},
   "outputs": [],
   "source": []
  }
 ],
 "metadata": {
  "kernelspec": {
   "display_name": "Python 3 (ipykernel)",
   "language": "python",
   "name": "python3"
  },
  "language_info": {
   "codemirror_mode": {
    "name": "ipython",
    "version": 3
   },
   "file_extension": ".py",
   "mimetype": "text/x-python",
   "name": "python",
   "nbconvert_exporter": "python",
   "pygments_lexer": "ipython3",
   "version": "3.12.0"
  }
 },
 "nbformat": 4,
 "nbformat_minor": 5
}
